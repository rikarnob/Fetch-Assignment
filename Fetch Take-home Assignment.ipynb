{
 "cells": [
  {
   "cell_type": "code",
   "execution_count": 10,
   "id": "0ea73281-211c-4187-89d4-c7b8a0a1303c",
   "metadata": {},
   "outputs": [],
   "source": [
    "import pandas as pd\n",
    "import numpy as np\n",
    "import plotly.express as ptx\n",
    "import plotly.io as pio\n",
    "from pandasql import sqldf\n",
    "from datetime import datetime as dt"
   ]
  },
  {
   "cell_type": "code",
   "execution_count": 11,
   "id": "4044f044-0460-49aa-a8e3-7e694f51f7d3",
   "metadata": {},
   "outputs": [],
   "source": [
    "from IPython.display import display\n",
    "from IPython.display import HTML\n",
    "from IPython.display import Image"
   ]
  },
  {
   "cell_type": "code",
   "execution_count": 12,
   "id": "219921ca-d51e-4bc1-988b-9deaaae9a97e",
   "metadata": {},
   "outputs": [],
   "source": [
    "## reading the csv files and storing to dataframes\n",
    "\n",
    "users = pd.read_csv(\"USER_TAKEHOME.csv\")\n",
    "prod = pd.read_csv(\"PRODUCTS_TAKEHOME.csv\")\n",
    "tnx = pd.read_csv(\"TRANSACTION_TAKEHOME.csv\")"
   ]
  },
  {
   "cell_type": "code",
   "execution_count": 13,
   "id": "f2f3ce6d-87a2-468b-b214-8f856b60a5e5",
   "metadata": {},
   "outputs": [
    {
     "data": {
      "text/html": [
       "<b> For table - users</b>"
      ],
      "text/plain": [
       "<IPython.core.display.HTML object>"
      ]
     },
     "metadata": {},
     "output_type": "display_data"
    },
    {
     "data": {
      "text/html": [
       "<div>\n",
       "<style scoped>\n",
       "    .dataframe tbody tr th:only-of-type {\n",
       "        vertical-align: middle;\n",
       "    }\n",
       "\n",
       "    .dataframe tbody tr th {\n",
       "        vertical-align: top;\n",
       "    }\n",
       "\n",
       "    .dataframe thead th {\n",
       "        text-align: right;\n",
       "    }\n",
       "</style>\n",
       "<table border=\"1\" class=\"dataframe\">\n",
       "  <thead>\n",
       "    <tr style=\"text-align: right;\">\n",
       "      <th></th>\n",
       "      <th>ID</th>\n",
       "      <th>CREATED_DATE</th>\n",
       "      <th>BIRTH_DATE</th>\n",
       "      <th>STATE</th>\n",
       "      <th>LANGUAGE</th>\n",
       "      <th>GENDER</th>\n",
       "    </tr>\n",
       "  </thead>\n",
       "  <tbody>\n",
       "    <tr>\n",
       "      <th>0</th>\n",
       "      <td>5ef3b4f17053ab141787697d</td>\n",
       "      <td>2020-06-24 20:17:54.000 Z</td>\n",
       "      <td>2000-08-11 00:00:00.000 Z</td>\n",
       "      <td>CA</td>\n",
       "      <td>es-419</td>\n",
       "      <td>female</td>\n",
       "    </tr>\n",
       "    <tr>\n",
       "      <th>1</th>\n",
       "      <td>5ff220d383fcfc12622b96bc</td>\n",
       "      <td>2021-01-03 19:53:55.000 Z</td>\n",
       "      <td>2001-09-24 04:00:00.000 Z</td>\n",
       "      <td>PA</td>\n",
       "      <td>en</td>\n",
       "      <td>female</td>\n",
       "    </tr>\n",
       "    <tr>\n",
       "      <th>2</th>\n",
       "      <td>6477950aa55bb77a0e27ee10</td>\n",
       "      <td>2023-05-31 18:42:18.000 Z</td>\n",
       "      <td>1994-10-28 00:00:00.000 Z</td>\n",
       "      <td>FL</td>\n",
       "      <td>es-419</td>\n",
       "      <td>female</td>\n",
       "    </tr>\n",
       "    <tr>\n",
       "      <th>3</th>\n",
       "      <td>658a306e99b40f103b63ccf8</td>\n",
       "      <td>2023-12-26 01:46:22.000 Z</td>\n",
       "      <td>NaN</td>\n",
       "      <td>NC</td>\n",
       "      <td>en</td>\n",
       "      <td>NaN</td>\n",
       "    </tr>\n",
       "    <tr>\n",
       "      <th>4</th>\n",
       "      <td>653cf5d6a225ea102b7ecdc2</td>\n",
       "      <td>2023-10-28 11:51:50.000 Z</td>\n",
       "      <td>1972-03-19 00:00:00.000 Z</td>\n",
       "      <td>PA</td>\n",
       "      <td>en</td>\n",
       "      <td>female</td>\n",
       "    </tr>\n",
       "  </tbody>\n",
       "</table>\n",
       "</div>"
      ],
      "text/plain": [
       "                         ID               CREATED_DATE  \\\n",
       "0  5ef3b4f17053ab141787697d  2020-06-24 20:17:54.000 Z   \n",
       "1  5ff220d383fcfc12622b96bc  2021-01-03 19:53:55.000 Z   \n",
       "2  6477950aa55bb77a0e27ee10  2023-05-31 18:42:18.000 Z   \n",
       "3  658a306e99b40f103b63ccf8  2023-12-26 01:46:22.000 Z   \n",
       "4  653cf5d6a225ea102b7ecdc2  2023-10-28 11:51:50.000 Z   \n",
       "\n",
       "                  BIRTH_DATE STATE LANGUAGE  GENDER  \n",
       "0  2000-08-11 00:00:00.000 Z    CA   es-419  female  \n",
       "1  2001-09-24 04:00:00.000 Z    PA       en  female  \n",
       "2  1994-10-28 00:00:00.000 Z    FL   es-419  female  \n",
       "3                        NaN    NC       en     NaN  \n",
       "4  1972-03-19 00:00:00.000 Z    PA       en  female  "
      ]
     },
     "metadata": {},
     "output_type": "display_data"
    },
    {
     "name": "stdout",
     "output_type": "stream",
     "text": [
      "____________________________________________________________________________________________________________________________________________\n"
     ]
    },
    {
     "data": {
      "text/html": [
       "<b> For table - prod</b>"
      ],
      "text/plain": [
       "<IPython.core.display.HTML object>"
      ]
     },
     "metadata": {},
     "output_type": "display_data"
    },
    {
     "data": {
      "text/html": [
       "<div>\n",
       "<style scoped>\n",
       "    .dataframe tbody tr th:only-of-type {\n",
       "        vertical-align: middle;\n",
       "    }\n",
       "\n",
       "    .dataframe tbody tr th {\n",
       "        vertical-align: top;\n",
       "    }\n",
       "\n",
       "    .dataframe thead th {\n",
       "        text-align: right;\n",
       "    }\n",
       "</style>\n",
       "<table border=\"1\" class=\"dataframe\">\n",
       "  <thead>\n",
       "    <tr style=\"text-align: right;\">\n",
       "      <th></th>\n",
       "      <th>CATEGORY_1</th>\n",
       "      <th>CATEGORY_2</th>\n",
       "      <th>CATEGORY_3</th>\n",
       "      <th>CATEGORY_4</th>\n",
       "      <th>MANUFACTURER</th>\n",
       "      <th>BRAND</th>\n",
       "      <th>BARCODE</th>\n",
       "    </tr>\n",
       "  </thead>\n",
       "  <tbody>\n",
       "    <tr>\n",
       "      <th>0</th>\n",
       "      <td>Health &amp; Wellness</td>\n",
       "      <td>Sexual Health</td>\n",
       "      <td>Conductivity Gels &amp; Lotions</td>\n",
       "      <td>NaN</td>\n",
       "      <td>NaN</td>\n",
       "      <td>NaN</td>\n",
       "      <td>7.964944e+11</td>\n",
       "    </tr>\n",
       "    <tr>\n",
       "      <th>1</th>\n",
       "      <td>Snacks</td>\n",
       "      <td>Puffed Snacks</td>\n",
       "      <td>Cheese Curls &amp; Puffs</td>\n",
       "      <td>NaN</td>\n",
       "      <td>NaN</td>\n",
       "      <td>NaN</td>\n",
       "      <td>2.327801e+10</td>\n",
       "    </tr>\n",
       "    <tr>\n",
       "      <th>2</th>\n",
       "      <td>Health &amp; Wellness</td>\n",
       "      <td>Hair Care</td>\n",
       "      <td>Hair Care Accessories</td>\n",
       "      <td>NaN</td>\n",
       "      <td>PLACEHOLDER MANUFACTURER</td>\n",
       "      <td>ELECSOP</td>\n",
       "      <td>4.618178e+11</td>\n",
       "    </tr>\n",
       "    <tr>\n",
       "      <th>3</th>\n",
       "      <td>Health &amp; Wellness</td>\n",
       "      <td>Oral Care</td>\n",
       "      <td>Toothpaste</td>\n",
       "      <td>NaN</td>\n",
       "      <td>COLGATE-PALMOLIVE</td>\n",
       "      <td>COLGATE</td>\n",
       "      <td>3.500047e+10</td>\n",
       "    </tr>\n",
       "    <tr>\n",
       "      <th>4</th>\n",
       "      <td>Health &amp; Wellness</td>\n",
       "      <td>Medicines &amp; Treatments</td>\n",
       "      <td>Essential Oils</td>\n",
       "      <td>NaN</td>\n",
       "      <td>MAPLE HOLISTICS AND HONEYDEW PRODUCTS INTERCHA...</td>\n",
       "      <td>MAPLE HOLISTICS</td>\n",
       "      <td>8.068109e+11</td>\n",
       "    </tr>\n",
       "  </tbody>\n",
       "</table>\n",
       "</div>"
      ],
      "text/plain": [
       "          CATEGORY_1              CATEGORY_2                   CATEGORY_3  \\\n",
       "0  Health & Wellness           Sexual Health  Conductivity Gels & Lotions   \n",
       "1             Snacks           Puffed Snacks         Cheese Curls & Puffs   \n",
       "2  Health & Wellness               Hair Care        Hair Care Accessories   \n",
       "3  Health & Wellness               Oral Care                   Toothpaste   \n",
       "4  Health & Wellness  Medicines & Treatments               Essential Oils   \n",
       "\n",
       "  CATEGORY_4                                       MANUFACTURER  \\\n",
       "0        NaN                                                NaN   \n",
       "1        NaN                                                NaN   \n",
       "2        NaN                           PLACEHOLDER MANUFACTURER   \n",
       "3        NaN                                  COLGATE-PALMOLIVE   \n",
       "4        NaN  MAPLE HOLISTICS AND HONEYDEW PRODUCTS INTERCHA...   \n",
       "\n",
       "             BRAND       BARCODE  \n",
       "0              NaN  7.964944e+11  \n",
       "1              NaN  2.327801e+10  \n",
       "2          ELECSOP  4.618178e+11  \n",
       "3          COLGATE  3.500047e+10  \n",
       "4  MAPLE HOLISTICS  8.068109e+11  "
      ]
     },
     "metadata": {},
     "output_type": "display_data"
    },
    {
     "name": "stdout",
     "output_type": "stream",
     "text": [
      "____________________________________________________________________________________________________________________________________________\n"
     ]
    },
    {
     "data": {
      "text/html": [
       "<b> For table - tnx</b>"
      ],
      "text/plain": [
       "<IPython.core.display.HTML object>"
      ]
     },
     "metadata": {},
     "output_type": "display_data"
    },
    {
     "data": {
      "text/html": [
       "<div>\n",
       "<style scoped>\n",
       "    .dataframe tbody tr th:only-of-type {\n",
       "        vertical-align: middle;\n",
       "    }\n",
       "\n",
       "    .dataframe tbody tr th {\n",
       "        vertical-align: top;\n",
       "    }\n",
       "\n",
       "    .dataframe thead th {\n",
       "        text-align: right;\n",
       "    }\n",
       "</style>\n",
       "<table border=\"1\" class=\"dataframe\">\n",
       "  <thead>\n",
       "    <tr style=\"text-align: right;\">\n",
       "      <th></th>\n",
       "      <th>RECEIPT_ID</th>\n",
       "      <th>PURCHASE_DATE</th>\n",
       "      <th>SCAN_DATE</th>\n",
       "      <th>STORE_NAME</th>\n",
       "      <th>USER_ID</th>\n",
       "      <th>BARCODE</th>\n",
       "      <th>FINAL_QUANTITY</th>\n",
       "      <th>FINAL_SALE</th>\n",
       "    </tr>\n",
       "  </thead>\n",
       "  <tbody>\n",
       "    <tr>\n",
       "      <th>0</th>\n",
       "      <td>0000d256-4041-4a3e-adc4-5623fb6e0c99</td>\n",
       "      <td>2024-08-21</td>\n",
       "      <td>2024-08-21 14:19:06.539 Z</td>\n",
       "      <td>WALMART</td>\n",
       "      <td>63b73a7f3d310dceeabd4758</td>\n",
       "      <td>1.530001e+10</td>\n",
       "      <td>1.00</td>\n",
       "      <td></td>\n",
       "    </tr>\n",
       "    <tr>\n",
       "      <th>1</th>\n",
       "      <td>0001455d-7a92-4a7b-a1d2-c747af1c8fd3</td>\n",
       "      <td>2024-07-20</td>\n",
       "      <td>2024-07-20 09:50:24.206 Z</td>\n",
       "      <td>ALDI</td>\n",
       "      <td>62c08877baa38d1a1f6c211a</td>\n",
       "      <td>NaN</td>\n",
       "      <td>zero</td>\n",
       "      <td>1.49</td>\n",
       "    </tr>\n",
       "    <tr>\n",
       "      <th>2</th>\n",
       "      <td>00017e0a-7851-42fb-bfab-0baa96e23586</td>\n",
       "      <td>2024-08-18</td>\n",
       "      <td>2024-08-19 15:38:56.813 Z</td>\n",
       "      <td>WALMART</td>\n",
       "      <td>60842f207ac8b7729e472020</td>\n",
       "      <td>7.874223e+10</td>\n",
       "      <td>1.00</td>\n",
       "      <td></td>\n",
       "    </tr>\n",
       "    <tr>\n",
       "      <th>3</th>\n",
       "      <td>000239aa-3478-453d-801e-66a82e39c8af</td>\n",
       "      <td>2024-06-18</td>\n",
       "      <td>2024-06-19 11:03:37.468 Z</td>\n",
       "      <td>FOOD LION</td>\n",
       "      <td>63fcd7cea4f8442c3386b589</td>\n",
       "      <td>7.833997e+11</td>\n",
       "      <td>zero</td>\n",
       "      <td>3.49</td>\n",
       "    </tr>\n",
       "    <tr>\n",
       "      <th>4</th>\n",
       "      <td>00026b4c-dfe8-49dd-b026-4c2f0fd5c6a1</td>\n",
       "      <td>2024-07-04</td>\n",
       "      <td>2024-07-05 15:56:43.549 Z</td>\n",
       "      <td>RANDALLS</td>\n",
       "      <td>6193231ae9b3d75037b0f928</td>\n",
       "      <td>4.790050e+10</td>\n",
       "      <td>1.00</td>\n",
       "      <td></td>\n",
       "    </tr>\n",
       "  </tbody>\n",
       "</table>\n",
       "</div>"
      ],
      "text/plain": [
       "                             RECEIPT_ID PURCHASE_DATE  \\\n",
       "0  0000d256-4041-4a3e-adc4-5623fb6e0c99    2024-08-21   \n",
       "1  0001455d-7a92-4a7b-a1d2-c747af1c8fd3    2024-07-20   \n",
       "2  00017e0a-7851-42fb-bfab-0baa96e23586    2024-08-18   \n",
       "3  000239aa-3478-453d-801e-66a82e39c8af    2024-06-18   \n",
       "4  00026b4c-dfe8-49dd-b026-4c2f0fd5c6a1    2024-07-04   \n",
       "\n",
       "                   SCAN_DATE STORE_NAME                   USER_ID  \\\n",
       "0  2024-08-21 14:19:06.539 Z    WALMART  63b73a7f3d310dceeabd4758   \n",
       "1  2024-07-20 09:50:24.206 Z       ALDI  62c08877baa38d1a1f6c211a   \n",
       "2  2024-08-19 15:38:56.813 Z    WALMART  60842f207ac8b7729e472020   \n",
       "3  2024-06-19 11:03:37.468 Z  FOOD LION  63fcd7cea4f8442c3386b589   \n",
       "4  2024-07-05 15:56:43.549 Z   RANDALLS  6193231ae9b3d75037b0f928   \n",
       "\n",
       "        BARCODE FINAL_QUANTITY FINAL_SALE  \n",
       "0  1.530001e+10           1.00             \n",
       "1           NaN           zero       1.49  \n",
       "2  7.874223e+10           1.00             \n",
       "3  7.833997e+11           zero       3.49  \n",
       "4  4.790050e+10           1.00             "
      ]
     },
     "metadata": {},
     "output_type": "display_data"
    },
    {
     "name": "stdout",
     "output_type": "stream",
     "text": [
      "____________________________________________________________________________________________________________________________________________\n"
     ]
    }
   ],
   "source": [
    "## Checking samples from each dataset\n",
    "tbl = [\"users\",\"prod\",\"tnx\"] ## users, products, transactions\n",
    "\n",
    "for t in tbl:\n",
    "    df = eval(t)\n",
    "    display(HTML(f\"<b> For table - {t}</b>\"))\n",
    "    display(df.head())\n",
    "    print(\"__\"*70)"
   ]
  },
  {
   "cell_type": "markdown",
   "id": "c0dc8e27-79bf-4497-abe2-b595cddce268",
   "metadata": {},
   "source": [
    "At a quick glance, I see null values in the *gender* and *birth_date* fields in **Users**, *barcode* and *final_sale* in **Transactions**. To investigate further I'm writing a quick `.info()` to check nulls and total values in the key fields for each table"
   ]
  },
  {
   "cell_type": "code",
   "execution_count": 14,
   "id": "30154bb1-3337-40d4-a0d1-0db692bb2af7",
   "metadata": {
    "scrolled": true
   },
   "outputs": [
    {
     "data": {
      "text/html": [
       "<b> For table - users</b>"
      ],
      "text/plain": [
       "<IPython.core.display.HTML object>"
      ]
     },
     "metadata": {},
     "output_type": "display_data"
    },
    {
     "name": "stdout",
     "output_type": "stream",
     "text": [
      "<class 'pandas.core.frame.DataFrame'>\n",
      "RangeIndex: 100000 entries, 0 to 99999\n",
      "Data columns (total 6 columns):\n",
      " #   Column        Non-Null Count   Dtype \n",
      "---  ------        --------------   ----- \n",
      " 0   ID            100000 non-null  object\n",
      " 1   CREATED_DATE  100000 non-null  object\n",
      " 2   BIRTH_DATE    96325 non-null   object\n",
      " 3   STATE         95188 non-null   object\n",
      " 4   LANGUAGE      69492 non-null   object\n",
      " 5   GENDER        94108 non-null   object\n",
      "dtypes: object(6)\n",
      "memory usage: 4.6+ MB\n"
     ]
    },
    {
     "data": {
      "text/plain": [
       "None"
      ]
     },
     "metadata": {},
     "output_type": "display_data"
    },
    {
     "name": "stdout",
     "output_type": "stream",
     "text": [
      "----------------------------------------\n"
     ]
    },
    {
     "data": {
      "text/html": [
       "<b> For table - prod</b>"
      ],
      "text/plain": [
       "<IPython.core.display.HTML object>"
      ]
     },
     "metadata": {},
     "output_type": "display_data"
    },
    {
     "name": "stdout",
     "output_type": "stream",
     "text": [
      "<class 'pandas.core.frame.DataFrame'>\n",
      "RangeIndex: 845552 entries, 0 to 845551\n",
      "Data columns (total 7 columns):\n",
      " #   Column        Non-Null Count   Dtype  \n",
      "---  ------        --------------   -----  \n",
      " 0   CATEGORY_1    845441 non-null  object \n",
      " 1   CATEGORY_2    844128 non-null  object \n",
      " 2   CATEGORY_3    784986 non-null  object \n",
      " 3   CATEGORY_4    67459 non-null   object \n",
      " 4   MANUFACTURER  619078 non-null  object \n",
      " 5   BRAND         619080 non-null  object \n",
      " 6   BARCODE       841527 non-null  float64\n",
      "dtypes: float64(1), object(6)\n",
      "memory usage: 45.2+ MB\n"
     ]
    },
    {
     "data": {
      "text/plain": [
       "None"
      ]
     },
     "metadata": {},
     "output_type": "display_data"
    },
    {
     "name": "stdout",
     "output_type": "stream",
     "text": [
      "----------------------------------------\n"
     ]
    },
    {
     "data": {
      "text/html": [
       "<b> For table - tnx</b>"
      ],
      "text/plain": [
       "<IPython.core.display.HTML object>"
      ]
     },
     "metadata": {},
     "output_type": "display_data"
    },
    {
     "name": "stdout",
     "output_type": "stream",
     "text": [
      "<class 'pandas.core.frame.DataFrame'>\n",
      "RangeIndex: 50000 entries, 0 to 49999\n",
      "Data columns (total 8 columns):\n",
      " #   Column          Non-Null Count  Dtype  \n",
      "---  ------          --------------  -----  \n",
      " 0   RECEIPT_ID      50000 non-null  object \n",
      " 1   PURCHASE_DATE   50000 non-null  object \n",
      " 2   SCAN_DATE       50000 non-null  object \n",
      " 3   STORE_NAME      50000 non-null  object \n",
      " 4   USER_ID         50000 non-null  object \n",
      " 5   BARCODE         44238 non-null  float64\n",
      " 6   FINAL_QUANTITY  50000 non-null  object \n",
      " 7   FINAL_SALE      50000 non-null  object \n",
      "dtypes: float64(1), object(7)\n",
      "memory usage: 3.1+ MB\n"
     ]
    },
    {
     "data": {
      "text/plain": [
       "None"
      ]
     },
     "metadata": {},
     "output_type": "display_data"
    },
    {
     "name": "stdout",
     "output_type": "stream",
     "text": [
      "----------------------------------------\n"
     ]
    }
   ],
   "source": [
    "tbl = [\"users\",\"prod\",\"tnx\"]\n",
    "\n",
    "for t in tbl:\n",
    "    df = eval(t)\n",
    "    display(HTML(f\"<b> For table - {t}</b>\"))\n",
    "    display(df.info())\n",
    "    print(\"--\"*20)"
   ]
  },
  {
   "cell_type": "markdown",
   "id": "18ee3c24-29a9-4f72-8dc1-e4f322f2bc9a",
   "metadata": {},
   "source": [
    "* I see that there are null values in the **Product** table's *BARCODE* column which is something to keep in mind while performing joins (as there are also null values in the *BARCODE* in the **Transactions** table. The *BARCODE* column is also in a XXe+N format, where e+N is the exponent, and this can cause issues while joining with the **Transactions** table\n",
    "\n",
    "* In the **Users** table not all users have *BIRTH_DATE* values as evidenced by some nulls\n",
    "\n",
    "* In the **Transactions** table some receipts are missing barcodes. And from the `head()` function I know that some transactions are also missing the *FINAL_QUANTITY* and *FINAL_SALE* figures\n",
    "\n",
    "As a last step, I am interested in checking the *birth_date* and the *created_date* column to check for any outliers in terms of how old/young a person is and when their record was created (I'm going to use older than 100 and younger than 5 as a rule-of-thumb). And, if there are such users, whether or not they have any transactions"
   ]
  },
  {
   "cell_type": "code",
   "execution_count": 15,
   "id": "f31dfca5-be4e-4ceb-9c35-1dd978ee8c30",
   "metadata": {},
   "outputs": [],
   "source": [
    "## Converting the string columns containing datetimes to datetime type\n",
    "\n",
    "users[\"BIRTH_DATE\"] = pd.to_datetime(users[\"BIRTH_DATE\"], utc = True)\n",
    "users[\"CREATED_DATE\"] = pd.to_datetime(users[\"CREATED_DATE\"], utc = True)"
   ]
  },
  {
   "cell_type": "code",
   "execution_count": 16,
   "id": "4a0663e7-f39f-4743-a282-aaeee73106e0",
   "metadata": {},
   "outputs": [],
   "source": [
    "## creating a new column that is truncated down to month and year for ease of calculating age\n",
    "users[\"BIRTH_MONTH_YEAR\"] = users[\"BIRTH_DATE\"].dt.strftime(\"%Y-%b\")\n",
    "\n",
    "## Investigating users who are older than 100 or younger than 5 by creating a flag column for either case\n",
    "users[\"AGE_G100\"] = np.where(users[\"BIRTH_MONTH_YEAR\"] <= '1924-Feb', 1, 0)\n",
    "users[\"AGE_L5\"] = np.where(users[\"BIRTH_MONTH_YEAR\"] >= '2020-Feb', 1, 0)"
   ]
  },
  {
   "cell_type": "code",
   "execution_count": 17,
   "id": "e162943b-d79f-4f5b-90f5-096ffb4300e6",
   "metadata": {},
   "outputs": [
    {
     "name": "stdout",
     "output_type": "stream",
     "text": [
      "Number of users older than 100 =  62\n",
      "Number of users younger than 5 =  10\n"
     ]
    }
   ],
   "source": [
    "print(\"Number of users older than 100 = \", np.sum(users[\"AGE_G100\"]))\n",
    "print(\"Number of users younger than 5 = \", np.sum(users[\"AGE_L5\"]))"
   ]
  },
  {
   "cell_type": "code",
   "execution_count": 18,
   "id": "71bc17ab-843c-45ab-917f-5b7c9ba70eef",
   "metadata": {
    "scrolled": true
   },
   "outputs": [
    {
     "data": {
      "text/plain": [
       "(0, 17)"
      ]
     },
     "metadata": {},
     "output_type": "display_data"
    },
    {
     "data": {
      "text/plain": [
       "(0, 17)"
      ]
     },
     "metadata": {},
     "output_type": "display_data"
    }
   ],
   "source": [
    "## Checking to see if our age outliers have any transactions in the transactions table\n",
    "\n",
    "tnx_g100 = pd.merge(users[users[\"AGE_G100\"]==1], tnx, left_on = \"ID\", right_on = \"USER_ID\", how = \"inner\")\n",
    "tnx_l5 = pd.merge(users[users[\"AGE_L5\"]==1], tnx, left_on = \"ID\", right_on = \"USER_ID\", how = \"inner\")\n",
    "\n",
    "display(tnx_g100.shape)\n",
    "display(tnx_l5.shape)"
   ]
  },
  {
   "cell_type": "markdown",
   "id": "4a74ede1-059c-46bf-af14-0e70ee68e294",
   "metadata": {},
   "source": [
    "The total number of users that are older than 100 or younger than 5 is 72, out of a base of 100K users. This is a number I would be comfortable dropping altogether. I check whether or not they have any transactions in the **Transactions** table and, as I had suspected, they do not. Either way, I retain the filters for these flags in the SQL queries since it reduces the dataset size prior to a join"
   ]
  },
  {
   "cell_type": "markdown",
   "id": "240fae14-ecfe-4854-9aef-325a7301d6c6",
   "metadata": {},
   "source": [
    "### What are the top 5 brands by receipts scanned among users 21 and over?"
   ]
  },
  {
   "cell_type": "code",
   "execution_count": 19,
   "id": "68dbef57-cb09-44e1-9e2e-3976442b8acc",
   "metadata": {},
   "outputs": [
    {
     "data": {
      "text/html": [
       "<div>\n",
       "<style scoped>\n",
       "    .dataframe tbody tr th:only-of-type {\n",
       "        vertical-align: middle;\n",
       "    }\n",
       "\n",
       "    .dataframe tbody tr th {\n",
       "        vertical-align: top;\n",
       "    }\n",
       "\n",
       "    .dataframe thead th {\n",
       "        text-align: right;\n",
       "    }\n",
       "</style>\n",
       "<table border=\"1\" class=\"dataframe\">\n",
       "  <thead>\n",
       "    <tr style=\"text-align: right;\">\n",
       "      <th></th>\n",
       "      <th>BRAND</th>\n",
       "      <th>brand_cnt</th>\n",
       "    </tr>\n",
       "  </thead>\n",
       "  <tbody>\n",
       "    <tr>\n",
       "      <th>0</th>\n",
       "      <td>DOVE</td>\n",
       "      <td>14</td>\n",
       "    </tr>\n",
       "    <tr>\n",
       "      <th>1</th>\n",
       "      <td>NERDS CANDY</td>\n",
       "      <td>14</td>\n",
       "    </tr>\n",
       "    <tr>\n",
       "      <th>2</th>\n",
       "      <td>COCA-COLA</td>\n",
       "      <td>13</td>\n",
       "    </tr>\n",
       "    <tr>\n",
       "      <th>3</th>\n",
       "      <td>HERSHEY'S</td>\n",
       "      <td>13</td>\n",
       "    </tr>\n",
       "    <tr>\n",
       "      <th>4</th>\n",
       "      <td>SOUR PATCH KIDS</td>\n",
       "      <td>13</td>\n",
       "    </tr>\n",
       "  </tbody>\n",
       "</table>\n",
       "</div>"
      ],
      "text/plain": [
       "             BRAND  brand_cnt\n",
       "0             DOVE         14\n",
       "1      NERDS CANDY         14\n",
       "2        COCA-COLA         13\n",
       "3        HERSHEY'S         13\n",
       "4  SOUR PATCH KIDS         13"
      ]
     },
     "metadata": {},
     "output_type": "display_data"
    }
   ],
   "source": [
    "## Pandas SQL implementation \n",
    "\n",
    "# explicityly type casting the barcode columns to prevent issues during joins\n",
    "prod[\"BARCODE\"] = prod[\"BARCODE\"].astype(str)\n",
    "tnx[\"BARCODE\"] = tnx[\"BARCODE\"].astype(str)\n",
    "\n",
    "pysqldf = lambda q: sqldf(q, globals())  # For global access to DataFrames\n",
    "\n",
    "# I'm taking the liberty to hardcode 2004-Feb for getting 21+ users since pandasql doesn't have a straightforward way to get difference\n",
    "# in years or months between two dates. In the interest of readability I'm avoiding the longer statements\n",
    "\n",
    "query = \"\"\"\n",
    "\n",
    "WITH users_filt AS (\n",
    "SELECT * FROM users WHERE BIRTH_MONTH_YEAR<= '2004-Feb' and AGE_G100!=1 and AGE_L5!=1\n",
    "),\n",
    "tnx_filt AS (\n",
    "SELECT t.*, uf.BIRTH_MONTH_YEAR FROM tnx as t\n",
    " INNER JOIN users_filt as uf\n",
    " on t.USER_ID = uf.ID\n",
    " ),\n",
    "prod_tnx_join AS (\n",
    "SELECT p.BRAND, count(distinct tf.RECEIPT_ID) as brand_cnt\n",
    "FROM tnx_filt as tf\n",
    " LEFT JOIN prod as p\n",
    "  on coalesce(tf.BARCODE,'Null Barcode') = coalesce(p.BARCODE,'Null Barcode')\n",
    "GROUP BY 1\n",
    ")\n",
    "SELECT brand, brand_cnt FROM prod_tnx_join\n",
    "WHERE brand != 'None'\n",
    "ORDER BY brand_cnt DESC\n",
    "LIMIT 5\n",
    ";\n",
    "\"\"\"\n",
    "\n",
    "result = pysqldf(query)\n",
    "display(result)"
   ]
  },
  {
   "cell_type": "markdown",
   "id": "6b3033f1-5f9f-4911-b928-a07011a9ee0b",
   "metadata": {},
   "source": [
    "### What are the top 5 brands by sales among users that have had their account for at least six months?"
   ]
  },
  {
   "cell_type": "code",
   "execution_count": 20,
   "id": "245159f1-54ca-433b-b414-9f8c6db3b868",
   "metadata": {},
   "outputs": [
    {
     "data": {
      "text/html": [
       "<div>\n",
       "<style scoped>\n",
       "    .dataframe tbody tr th:only-of-type {\n",
       "        vertical-align: middle;\n",
       "    }\n",
       "\n",
       "    .dataframe tbody tr th {\n",
       "        vertical-align: top;\n",
       "    }\n",
       "\n",
       "    .dataframe thead th {\n",
       "        text-align: right;\n",
       "    }\n",
       "</style>\n",
       "<table border=\"1\" class=\"dataframe\">\n",
       "  <thead>\n",
       "    <tr style=\"text-align: right;\">\n",
       "      <th></th>\n",
       "      <th>BRAND</th>\n",
       "      <th>sales</th>\n",
       "    </tr>\n",
       "  </thead>\n",
       "  <tbody>\n",
       "    <tr>\n",
       "      <th>0</th>\n",
       "      <td>COCA-COLA</td>\n",
       "      <td>2590.58</td>\n",
       "    </tr>\n",
       "    <tr>\n",
       "      <th>1</th>\n",
       "      <td>ANNIE'S HOMEGROWN GROCERY</td>\n",
       "      <td>2383.92</td>\n",
       "    </tr>\n",
       "    <tr>\n",
       "      <th>2</th>\n",
       "      <td>DOVE</td>\n",
       "      <td>2327.47</td>\n",
       "    </tr>\n",
       "    <tr>\n",
       "      <th>3</th>\n",
       "      <td>BAREFOOT</td>\n",
       "      <td>2284.59</td>\n",
       "    </tr>\n",
       "    <tr>\n",
       "      <th>4</th>\n",
       "      <td>ORIBE</td>\n",
       "      <td>2085.93</td>\n",
       "    </tr>\n",
       "  </tbody>\n",
       "</table>\n",
       "</div>"
      ],
      "text/plain": [
       "                       BRAND    sales\n",
       "0                  COCA-COLA  2590.58\n",
       "1  ANNIE'S HOMEGROWN GROCERY  2383.92\n",
       "2                       DOVE  2327.47\n",
       "3                   BAREFOOT  2284.59\n",
       "4                      ORIBE  2085.93"
      ]
     },
     "metadata": {},
     "output_type": "display_data"
    }
   ],
   "source": [
    "## Pandas SQL implementation \n",
    "\n",
    "users[\"CREATED_MONTH_YEAR\"] = users[\"CREATED_DATE\"].dt.strftime(\"%Y-%b\")\n",
    "\n",
    "query_1 = \"\"\"\n",
    "\n",
    "WITH users_filt AS (\n",
    "SELECT * FROM users WHERE CREATED_MONTH_YEAR<='2024-Aug' and AGE_G100!=1 and AGE_L5!=1\n",
    "),\n",
    "tnx_filt AS (\n",
    "SELECT t.*, uf.CREATED_MONTH_YEAR FROM tnx as t\n",
    " INNER JOIN users_filt as uf\n",
    " on t.USER_ID = uf.ID\n",
    " ),\n",
    "prod_tnx_join AS (\n",
    "SELECT p.BRAND, sum(FINAL_SALE) as sales\n",
    "FROM tnx_filt as tf\n",
    " LEFT JOIN prod as p\n",
    "  on coalesce(tf.BARCODE,'Null Barcode') = coalesce(p.BARCODE,'Null Barcode')\n",
    "GROUP BY 1\n",
    ")\n",
    "SELECT brand, sales FROM prod_tnx_join\n",
    "WHERE BRAND != 'None'\n",
    "ORDER BY sales DESC\n",
    "LIMIT 5\n",
    ";\n",
    "\"\"\"\n",
    "\n",
    "result1 = pysqldf(query_1)\n",
    "display(result1)"
   ]
  },
  {
   "cell_type": "markdown",
   "id": "a948c23d-bb9f-41f3-96e9-c12dbb6ab776",
   "metadata": {},
   "source": [
    "**NOTE**: In the two pandasql implementations above, I took the liberty to hardcode `2004-Feb` and `2024-Aug` for 21+ users and for users with accounts 6 months or older (respectively) since pandasql doesn't have a straightforward way to get difference in years (or months) between two dates. In the interest of readability I'm avoiding the longer statements"
   ]
  },
  {
   "cell_type": "markdown",
   "id": "1b5a4ba2-5429-432c-9ceb-cfeb344a4371",
   "metadata": {},
   "source": [
    "### Who are Fetch’s power users?"
   ]
  },
  {
   "cell_type": "markdown",
   "id": "35a6b26f-46b4-4b19-8de0-bd88d18133aa",
   "metadata": {},
   "source": [
    "In obtaining power users, I'm pulling \n",
    "\n",
    "* total user purchase amounts by user,\n",
    "* distinct receipt counts by user, and\n",
    "* distinct scan dates by user\n",
    "\n",
    "Even though sales amount could've been enough, I saw it has some outliers, i.e. users that are very high spenders but not necessarily frequent scanners or shoppers. As a result, I'm using a combo of all 3 columns (I use distinct receipt counts to identify frequent shoppers and distinct scan date counts as a proxy for app usage)"
   ]
  },
  {
   "cell_type": "code",
   "execution_count": 21,
   "id": "0ad0d9e2-a8e9-4294-9fc5-53f8cd9ea9a7",
   "metadata": {},
   "outputs": [],
   "source": [
    "tnx[\"FINAL_SALE\"] = pd.to_numeric(tnx[\"FINAL_SALE\"], errors = 'coerce') # converting final_sale to numeric from string\n",
    "\n",
    "tnx [\"SCAN_DATE\"] = pd.to_datetime(tnx[\"SCAN_DATE\"], utc = True) # converting scan_date to datetime format\n",
    "tnx[\"SCAN_DATE_TRUNC\"] = tnx[\"SCAN_DATE\"].dt.strftime('%Y-%m-%d') # truncating scan_date to remove the time portion"
   ]
  },
  {
   "cell_type": "code",
   "execution_count": 22,
   "id": "62e09b39-5169-449d-bcbc-c95c21c34822",
   "metadata": {},
   "outputs": [],
   "source": [
    "#Aggregating final_sale, receipt_id count and scan_date count by user_ids\n",
    "\n",
    "user_tnx = tnx.groupby(\"USER_ID\")[\"FINAL_SALE\"].sum().reset_index().sort_values(by ='FINAL_SALE', ascending = False)\n",
    "user_purc = tnx.groupby(\"USER_ID\")[\"RECEIPT_ID\"].nunique().reset_index().sort_values(by ='RECEIPT_ID', ascending = False)\n",
    "user_scan = tnx.groupby(\"USER_ID\")[\"SCAN_DATE_TRUNC\"].nunique().reset_index().sort_values(by ='SCAN_DATE_TRUNC', ascending = False)"
   ]
  },
  {
   "cell_type": "code",
   "execution_count": 23,
   "id": "6780b48d-eb58-4dce-8cc1-c2c215b61344",
   "metadata": {},
   "outputs": [],
   "source": [
    "## Obtaining the 75th percentile values for sales amount, distinct receipt count and distinct scan dates\n",
    "\n",
    "sales_perc = user_tnx[\"FINAL_SALE\"].quantile(0.75)\n",
    "purchase_perc = user_purc[\"RECEIPT_ID\"].quantile(0.75)\n",
    "scan_perc = user_scan[\"SCAN_DATE_TRUNC\"].quantile(0.75)"
   ]
  },
  {
   "cell_type": "markdown",
   "id": "467c1cda-5954-4bdb-95e8-6d3939139e3e",
   "metadata": {},
   "source": [
    "*Note*: *Initially I was pulling user ids using just the **Transactions** table and I ended up with 200+ user ids. However, on joining with the **Users**, I found that most users weren't present in the users table - I was getting only 16 users. The actual number of power users, as such, is a lot more than I'm getting information for.*\n",
    "\n",
    "The approach I ended up using - below - is to first filter the **Transactions** table with `user_ids` that are present in the **Users** table and then performing my percentile filtering to arrive at the power users"
   ]
  },
  {
   "cell_type": "code",
   "execution_count": 24,
   "id": "2ac1d605-f40e-4434-ba63-c5a9e577a416",
   "metadata": {},
   "outputs": [],
   "source": [
    "query_2 = f\"\"\"\n",
    "\n",
    "with user_hist as (\n",
    "select user_id\n",
    "       ,gender\n",
    "       ,birth_month_year\n",
    "       ,count(distinct receipt_id) as cnt_rec\n",
    "       ,count(distinct scan_date_trunc) as dist_scan_Date\n",
    "       ,sum(final_sale) as money_spent\n",
    "from tnx as t\n",
    "join users as u\n",
    " on t.user_id = u.id\n",
    "group by 1, 2, 3\n",
    "order by cnt_rec desc, dist_scan_Date desc, money_spent desc\n",
    "),\n",
    "frequent_scanners as (\n",
    "select user_id, gender, birth_month_year\n",
    "from user_hist\n",
    "where dist_scan_Date >= {scan_perc}\n",
    "),\n",
    "multi_item_shoppers as (\n",
    "select user_id, gender, birth_month_year\n",
    "from user_hist\n",
    "where cnt_rec >= {purchase_perc}\n",
    "),\n",
    "high_spenders as(\n",
    "select user_id, gender, birth_month_year\n",
    "from user_hist\n",
    "where money_spent >= {sales_perc}\n",
    ")\n",
    "select a.user_id, a.gender, a.birth_month_year\n",
    "from frequent_scanners as a\n",
    " inner join multi_item_shoppers as b\n",
    "  on a.user_id = b.user_id\n",
    " inner join high_spenders as c\n",
    "  on a.user_id = c.user_id;\n",
    "\"\"\"\n",
    "\n",
    "result2 = pysqldf(query_2)"
   ]
  },
  {
   "cell_type": "code",
   "execution_count": 25,
   "id": "47be8140-7000-4757-b08d-81991ad910e6",
   "metadata": {},
   "outputs": [],
   "source": [
    "## converting birth_month_year to datetime format\n",
    "result2[\"birth_month_year\"] = pd.to_datetime(result2[\"birth_month_year\"], format = '%Y-%b')\n",
    "\n",
    "##calculating age using 2025-February as the reference point\n",
    "result2[\"age\"] = dt.strptime('2025-Feb', '%Y-%b').year- result2[\"birth_month_year\"].dt.year"
   ]
  },
  {
   "cell_type": "code",
   "execution_count": 38,
   "id": "ccc12501-d27b-4b88-92b3-6ac439072211",
   "metadata": {},
   "outputs": [],
   "source": [
    "## defining age buckets for a basic bar chart to show the age groups and gender power users fall in\n",
    "\n",
    "buckets = ['20-35','35-50','50-65','65-80']\n",
    "bins = [20, 35, 50, 65, 80]"
   ]
  },
  {
   "cell_type": "code",
   "execution_count": 39,
   "id": "667cbd6d-796b-49f1-84a1-904cd90f83ac",
   "metadata": {},
   "outputs": [],
   "source": [
    "result2[\"age_bucket\"] = pd.cut(result2[\"age\"], bins = bins, labels = buckets, right = True)"
   ]
  },
  {
   "cell_type": "code",
   "execution_count": 40,
   "id": "2d91ef65-2d8a-436f-8a7a-6b9beee6b66e",
   "metadata": {},
   "outputs": [
    {
     "data": {
      "image/png": "[encoded data removed]",
      "text/plain": [
       "<IPython.core.display.Image object>"
      ]
     },
     "execution_count": 40,
     "metadata": {},
     "output_type": "execute_result"
    }
   ],
   "source": [
    "fig = ptx.bar(result2.groupby([\"age_bucket\",\"gender\"], observed=False).size().reset_index(name = \"count\"), \n",
    "        y=\"age_bucket\", x=\"count\", labels = {\"age_bucket\":\"Age Bucket\",\"count\":\"User Count\"},\n",
    "        orientation='h', color = \"gender\", title = \"Power Users by Age Bucket and Gender\")\n",
    "\n",
    "pio.write_image(fig, \"power_users.png\")\n",
    "\n",
    "Image(\"power_users.png\")"
   ]
  },
  {
   "cell_type": "markdown",
   "id": "e0ff9778-14b1-4976-b7c2-94d62783a921",
   "metadata": {},
   "source": [
    "There are many other approaches to getting power users - the approach I have used is, arguably, a little restrictive and leads to a smaller cohort. The criteria can loosened up and/or changed by -\n",
    "\n",
    "* Lowering the percentile threshold\n",
    "* Not conisidering the overlap of top 25% of spenders and scanners and receipt - I could consider 2 of these or just 1 depending on the use case\n",
    "* Looking at count of distinct brands a user purchased and taking a top % from there"
   ]
  },
  {
   "cell_type": "code",
   "execution_count": 29,
   "id": "24eac02d-5b28-4912-a8d1-53f71017c81d",
   "metadata": {
    "scrolled": true
   },
   "outputs": [
    {
     "data": {
      "text/html": [
       "<div>\n",
       "<style scoped>\n",
       "    .dataframe tbody tr th:only-of-type {\n",
       "        vertical-align: middle;\n",
       "    }\n",
       "\n",
       "    .dataframe tbody tr th {\n",
       "        vertical-align: top;\n",
       "    }\n",
       "\n",
       "    .dataframe thead th {\n",
       "        text-align: right;\n",
       "    }\n",
       "</style>\n",
       "<table border=\"1\" class=\"dataframe\">\n",
       "  <thead>\n",
       "    <tr style=\"text-align: right;\">\n",
       "      <th></th>\n",
       "      <th>user_id</th>\n",
       "      <th>gender</th>\n",
       "      <th>birth_month_year</th>\n",
       "      <th>age</th>\n",
       "      <th>age_bucket</th>\n",
       "    </tr>\n",
       "  </thead>\n",
       "  <tbody>\n",
       "    <tr>\n",
       "      <th>0</th>\n",
       "      <td>62ffec490d9dbaff18c0a999</td>\n",
       "      <td>female</td>\n",
       "      <td>1951-12-01</td>\n",
       "      <td>74</td>\n",
       "      <td>65-80</td>\n",
       "    </tr>\n",
       "    <tr>\n",
       "      <th>1</th>\n",
       "      <td>62c09104baa38d1a1f6c260e</td>\n",
       "      <td>female</td>\n",
       "      <td>1978-03-01</td>\n",
       "      <td>47</td>\n",
       "      <td>35-50</td>\n",
       "    </tr>\n",
       "    <tr>\n",
       "      <th>2</th>\n",
       "      <td>610a8541ca1fab5b417b5d33</td>\n",
       "      <td>male</td>\n",
       "      <td>1977-01-01</td>\n",
       "      <td>48</td>\n",
       "      <td>35-50</td>\n",
       "    </tr>\n",
       "    <tr>\n",
       "      <th>3</th>\n",
       "      <td>5c366bf06d9819129dfa1118</td>\n",
       "      <td>female</td>\n",
       "      <td>1989-04-01</td>\n",
       "      <td>36</td>\n",
       "      <td>35-50</td>\n",
       "    </tr>\n",
       "    <tr>\n",
       "      <th>4</th>\n",
       "      <td>6528a0a388a3a884364d94dc</td>\n",
       "      <td>female</td>\n",
       "      <td>1988-06-01</td>\n",
       "      <td>37</td>\n",
       "      <td>35-50</td>\n",
       "    </tr>\n",
       "    <tr>\n",
       "      <th>5</th>\n",
       "      <td>61a58ac49c135b462ccddd1c</td>\n",
       "      <td>female</td>\n",
       "      <td>1996-05-01</td>\n",
       "      <td>29</td>\n",
       "      <td>20-35</td>\n",
       "    </tr>\n",
       "    <tr>\n",
       "      <th>6</th>\n",
       "      <td>643059f0838dd2651fb27f50</td>\n",
       "      <td>male</td>\n",
       "      <td>1954-10-01</td>\n",
       "      <td>71</td>\n",
       "      <td>65-80</td>\n",
       "    </tr>\n",
       "    <tr>\n",
       "      <th>7</th>\n",
       "      <td>6351760a3a4a3534d9393ecd</td>\n",
       "      <td>female</td>\n",
       "      <td>1984-12-01</td>\n",
       "      <td>41</td>\n",
       "      <td>35-50</td>\n",
       "    </tr>\n",
       "    <tr>\n",
       "      <th>8</th>\n",
       "      <td>64dd9170516348066e7c4006</td>\n",
       "      <td>female</td>\n",
       "      <td>1993-12-01</td>\n",
       "      <td>32</td>\n",
       "      <td>20-35</td>\n",
       "    </tr>\n",
       "    <tr>\n",
       "      <th>9</th>\n",
       "      <td>5b441360be53340f289b0795</td>\n",
       "      <td>female</td>\n",
       "      <td>1982-09-01</td>\n",
       "      <td>43</td>\n",
       "      <td>35-50</td>\n",
       "    </tr>\n",
       "    <tr>\n",
       "      <th>10</th>\n",
       "      <td>5f21e60446f11314a16015de</td>\n",
       "      <td>male</td>\n",
       "      <td>1980-07-01</td>\n",
       "      <td>45</td>\n",
       "      <td>35-50</td>\n",
       "    </tr>\n",
       "    <tr>\n",
       "      <th>11</th>\n",
       "      <td>6682b24786cc41b000ce5e77</td>\n",
       "      <td>female</td>\n",
       "      <td>1988-08-01</td>\n",
       "      <td>37</td>\n",
       "      <td>35-50</td>\n",
       "    </tr>\n",
       "    <tr>\n",
       "      <th>12</th>\n",
       "      <td>632fc9dc0c625b72ae991f83</td>\n",
       "      <td>female</td>\n",
       "      <td>1980-05-01</td>\n",
       "      <td>45</td>\n",
       "      <td>35-50</td>\n",
       "    </tr>\n",
       "    <tr>\n",
       "      <th>13</th>\n",
       "      <td>646bdaa67a342372c857b958</td>\n",
       "      <td>female</td>\n",
       "      <td>1981-03-01</td>\n",
       "      <td>44</td>\n",
       "      <td>35-50</td>\n",
       "    </tr>\n",
       "    <tr>\n",
       "      <th>14</th>\n",
       "      <td>63c2d13139c79dcbdd563f61</td>\n",
       "      <td>male</td>\n",
       "      <td>1989-06-01</td>\n",
       "      <td>36</td>\n",
       "      <td>35-50</td>\n",
       "    </tr>\n",
       "    <tr>\n",
       "      <th>15</th>\n",
       "      <td>5fc12a8a16770448f92e56b8</td>\n",
       "      <td>female</td>\n",
       "      <td>1987-06-01</td>\n",
       "      <td>38</td>\n",
       "      <td>35-50</td>\n",
       "    </tr>\n",
       "    <tr>\n",
       "      <th>16</th>\n",
       "      <td>5f6518d1bf3f5a43fdd0c9a5</td>\n",
       "      <td>female</td>\n",
       "      <td>1955-02-01</td>\n",
       "      <td>70</td>\n",
       "      <td>65-80</td>\n",
       "    </tr>\n",
       "  </tbody>\n",
       "</table>\n",
       "</div>"
      ],
      "text/plain": [
       "                     user_id  gender birth_month_year  age age_bucket\n",
       "0   62ffec490d9dbaff18c0a999  female       1951-12-01   74      65-80\n",
       "1   62c09104baa38d1a1f6c260e  female       1978-03-01   47      35-50\n",
       "2   610a8541ca1fab5b417b5d33    male       1977-01-01   48      35-50\n",
       "3   5c366bf06d9819129dfa1118  female       1989-04-01   36      35-50\n",
       "4   6528a0a388a3a884364d94dc  female       1988-06-01   37      35-50\n",
       "5   61a58ac49c135b462ccddd1c  female       1996-05-01   29      20-35\n",
       "6   643059f0838dd2651fb27f50    male       1954-10-01   71      65-80\n",
       "7   6351760a3a4a3534d9393ecd  female       1984-12-01   41      35-50\n",
       "8   64dd9170516348066e7c4006  female       1993-12-01   32      20-35\n",
       "9   5b441360be53340f289b0795  female       1982-09-01   43      35-50\n",
       "10  5f21e60446f11314a16015de    male       1980-07-01   45      35-50\n",
       "11  6682b24786cc41b000ce5e77  female       1988-08-01   37      35-50\n",
       "12  632fc9dc0c625b72ae991f83  female       1980-05-01   45      35-50\n",
       "13  646bdaa67a342372c857b958  female       1981-03-01   44      35-50\n",
       "14  63c2d13139c79dcbdd563f61    male       1989-06-01   36      35-50\n",
       "15  5fc12a8a16770448f92e56b8  female       1987-06-01   38      35-50\n",
       "16  5f6518d1bf3f5a43fdd0c9a5  female       1955-02-01   70      65-80"
      ]
     },
     "metadata": {},
     "output_type": "display_data"
    }
   ],
   "source": [
    "## Raw data table of power users\n",
    "\n",
    "display(result2)"
   ]
  },
  {
   "cell_type": "markdown",
   "id": "e0426732-f503-4fbb-97bf-94bf048cbfa8",
   "metadata": {},
   "source": [
    "### Appendix - Composition of users table by generation and gender"
   ]
  },
  {
   "cell_type": "code",
   "execution_count": 32,
   "id": "bc81de04-49ad-471d-be76-fba2422b87b9",
   "metadata": {},
   "outputs": [],
   "source": [
    "users[\"BIRTH_MONTH_YEAR\"] = pd.to_datetime(users[\"BIRTH_MONTH_YEAR\"], format = '%Y-%b')\n",
    "\n",
    "users[\"age\"] = dt.strptime('2025-Feb', '%Y-%b').year- users[\"BIRTH_MONTH_YEAR\"].dt.year\n",
    "\n",
    "buckets = ['Gen Z','Millenial','Gen X','Baby Boomer', 'Silent Generation']\n",
    "bins = [13, 29, 45, 61, 80, 97]\n",
    "\n",
    "users[\"age_bucket\"] = pd.cut(users[\"age\"], bins = bins, labels = buckets, right = True)"
   ]
  },
  {
   "cell_type": "code",
   "execution_count": 42,
   "id": "275a0b2e-a019-439b-b173-6fb4906b2407",
   "metadata": {},
   "outputs": [
    {
     "data": {
      "image/png": "[encoded data removed]",
      "text/plain": [
       "<IPython.core.display.Image object>"
      ]
     },
     "execution_count": 42,
     "metadata": {},
     "output_type": "execute_result"
    }
   ],
   "source": [
    "fig2 = ptx.bar(users.groupby([\"age_bucket\",\"GENDER\"], observed=False).size().reset_index(name = \"count\"), \n",
    "        y=\"age_bucket\", x=\"count\", labels = {\"age_bucket\":\"Age Bucket\",\"count\":\"User Count\"},\n",
    "        orientation='h', color = \"GENDER\", title = \"Power Users by Generation and Gender\")\n",
    "\n",
    "pio.write_image(fig2, \"user_gen.png\")\n",
    "\n",
    "Image(\"user_gen.png\")"
   ]
  }
 ],
 "metadata": {
  "kernelspec": {
   "display_name": "Upgraded Tensorflow Env",
   "language": "python",
   "name": "my_tf_env_upgraded"
  },
  "language_info": {
   "codemirror_mode": {
    "name": "ipython",
    "version": 3
   },
   "file_extension": ".py",
   "mimetype": "text/x-python",
   "name": "python",
   "nbconvert_exporter": "python",
   "pygments_lexer": "ipython3",
   "version": "3.12.8"
  }
 },
 "nbformat": 4,
 "nbformat_minor": 5
}
